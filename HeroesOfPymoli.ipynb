{
 "cells": [
  {
   "cell_type": "markdown",
   "metadata": {},
   "source": [
    "### Heroes Of Pymoli Data Analysis\n",
    "* Of the 1163 active players, the vast majority are male (84%). There also exists, a smaller, but notable proportion of female players (14%).\n",
    "\n",
    "* Our peak age demographic falls between 20-24 (44.8%) with secondary groups falling between 15-19 (18.60%) and 25-29 (13.4%).  \n",
    "-----"
   ]
  },
  {
   "cell_type": "markdown",
   "metadata": {},
   "source": [
    "### Note\n",
    "* Instructions have been included for each segment. You do not have to follow them exactly, but they are included to help you think through the steps."
   ]
  },
  {
   "cell_type": "code",
   "execution_count": 1,
   "metadata": {},
   "outputs": [
    {
     "data": {
      "text/plain": [
       "Index(['Purchase ID', 'SN', 'Age', 'Gender', 'Item ID', 'Item Name', 'Price'], dtype='object')"
      ]
     },
     "execution_count": 1,
     "metadata": {},
     "output_type": "execute_result"
    }
   ],
   "source": [
    "# Observed Trend 1 - While there are significantly more male, on average female users spend more than the male users (female = $3.20 vs male = $3.02)\n",
    "# Observed Trend 2 - On average, age range 35-39 spends the more than any other age group ($3.60).\n",
    "# Observed Trend 3 - My son is in age range 10-14 and their average purchase is one of the lowest.  Surprising since I get emails from Microsoft while I'm in class with a receipt for things purchased in Fortnite. \n",
    "\n",
    "\n",
    "# Dependencies and Setup\n",
    "import pandas as pd\n",
    "import numpy as np\n",
    "\n",
    "# Raw data file\n",
    "file_to_load = \"Resources/purchase_data.csv\"\n",
    "\n",
    "# Read purchasing file and store into pandas data frame\n",
    "purchase_data = pd.read_csv(file_to_load)\n",
    "purchase_data.head()\n",
    "purchase_data.columns"
   ]
  },
  {
   "cell_type": "markdown",
   "metadata": {},
   "source": [
    "## Player Count"
   ]
  },
  {
   "cell_type": "markdown",
   "metadata": {},
   "source": [
    "* Display the total number of players\n"
   ]
  },
  {
   "cell_type": "code",
   "execution_count": 2,
   "metadata": {},
   "outputs": [
    {
     "data": {
      "text/html": [
       "<div>\n",
       "<style scoped>\n",
       "    .dataframe tbody tr th:only-of-type {\n",
       "        vertical-align: middle;\n",
       "    }\n",
       "\n",
       "    .dataframe tbody tr th {\n",
       "        vertical-align: top;\n",
       "    }\n",
       "\n",
       "    .dataframe thead th {\n",
       "        text-align: right;\n",
       "    }\n",
       "</style>\n",
       "<table border=\"1\" class=\"dataframe\">\n",
       "  <thead>\n",
       "    <tr style=\"text-align: right;\">\n",
       "      <th></th>\n",
       "      <th>Total Players</th>\n",
       "    </tr>\n",
       "  </thead>\n",
       "  <tbody>\n",
       "    <tr>\n",
       "      <th>0</th>\n",
       "      <td>576</td>\n",
       "    </tr>\n",
       "  </tbody>\n",
       "</table>\n",
       "</div>"
      ],
      "text/plain": [
       "   Total Players\n",
       "0            576"
      ]
     },
     "execution_count": 2,
     "metadata": {},
     "output_type": "execute_result"
    }
   ],
   "source": [
    "# Calculate the Number of Unique Players\n",
    "player_demographics = purchase_data.loc[:, [\"Gender\", \"SN\", \"Age\"]]\n",
    "player_demographics = player_demographics.drop_duplicates()\n",
    "num_players = player_demographics.count()[0]\n",
    "\n",
    "# Display the total number of players\n",
    "pd.DataFrame({\"Total Players\": [num_players]})\n"
   ]
  },
  {
   "cell_type": "markdown",
   "metadata": {},
   "source": [
    "## Purchasing Analysis (Total)"
   ]
  },
  {
   "cell_type": "markdown",
   "metadata": {},
   "source": [
    "* Run basic calculations to obtain number of unique items, average price, etc.\n",
    "\n",
    "\n",
    "* Create a summary data frame to hold the results\n",
    "\n",
    "\n",
    "* Optional: give the displayed data cleaner formatting\n",
    "\n",
    "\n",
    "* Display the summary data frame\n"
   ]
  },
  {
   "cell_type": "code",
   "execution_count": 3,
   "metadata": {
    "scrolled": true
   },
   "outputs": [
    {
     "data": {
      "text/html": [
       "<div>\n",
       "<style scoped>\n",
       "    .dataframe tbody tr th:only-of-type {\n",
       "        vertical-align: middle;\n",
       "    }\n",
       "\n",
       "    .dataframe tbody tr th {\n",
       "        vertical-align: top;\n",
       "    }\n",
       "\n",
       "    .dataframe thead th {\n",
       "        text-align: right;\n",
       "    }\n",
       "</style>\n",
       "<table border=\"1\" class=\"dataframe\">\n",
       "  <thead>\n",
       "    <tr style=\"text-align: right;\">\n",
       "      <th></th>\n",
       "      <th>Number of Unique Items</th>\n",
       "      <th>Average Price</th>\n",
       "      <th>Number of Purchases</th>\n",
       "      <th>Total Revenue</th>\n",
       "    </tr>\n",
       "  </thead>\n",
       "  <tbody>\n",
       "    <tr>\n",
       "      <th>0</th>\n",
       "      <td>183</td>\n",
       "      <td>$3.05</td>\n",
       "      <td>780</td>\n",
       "      <td>$2,379.77</td>\n",
       "    </tr>\n",
       "  </tbody>\n",
       "</table>\n",
       "</div>"
      ],
      "text/plain": [
       "   Number of Unique Items Average Price Number of Purchases Total Revenue\n",
       "0                     183         $3.05                 780     $2,379.77"
      ]
     },
     "execution_count": 3,
     "metadata": {},
     "output_type": "execute_result"
    }
   ],
   "source": [
    "# Run basic calculations\n",
    "average_item_price = purchase_data[\"Price\"].mean()\n",
    "total_purchase = purchase_data[\"Price\"].sum()\n",
    "purchase_count = purchase_data[\"Price\"].count()\n",
    "item_count = len(purchase_data[\"Item ID\"].unique())\n",
    "\n",
    "# Create a summary data frame to hold the results\n",
    "summary_table = pd.DataFrame({\"Number of Unique Items\": item_count,\n",
    "                             \"Total Revenue\": [total_purchase],\n",
    "                             \"Number of Purchases\": [purchase_count],\n",
    "                             \"Average Price\": [average_item_price]})\n",
    "\n",
    "#Give the displated dat clearner fromatting\n",
    "summary_table = summary_table.round(2)\n",
    "summary_table[\"Average Price\"] = summary_table[\"Average Price\"].map(\"${:,.2f}\".format)\n",
    "summary_table[\"Number of Purchases\"] = summary_table[\"Number of Purchases\"].map(\"{:,}\".format)\n",
    "summary_table[\"Total Revenue\"] = summary_table[\"Total Revenue\"].map(\"${:,.2f}\".format)\n",
    "summary_table = summary_table.loc[:,[\"Number of Unique Items\", \"Average Price\", \"Number of Purchases\", \"Total Revenue\"]]\n",
    "\n",
    "# Display the summary data frame\n",
    "summary_table"
   ]
  },
  {
   "cell_type": "markdown",
   "metadata": {},
   "source": [
    "## Gender Demographics"
   ]
  },
  {
   "cell_type": "markdown",
   "metadata": {},
   "source": [
    "* Percentage and Count of Male Players\n",
    "\n",
    "\n",
    "* Percentage and Count of Female Players\n",
    "\n",
    "\n",
    "* Percentage and Count of Other / Non-Disclosed\n",
    "\n",
    "\n"
   ]
  },
  {
   "cell_type": "code",
   "execution_count": 4,
   "metadata": {},
   "outputs": [
    {
     "data": {
      "text/html": [
       "<div>\n",
       "<style scoped>\n",
       "    .dataframe tbody tr th:only-of-type {\n",
       "        vertical-align: middle;\n",
       "    }\n",
       "\n",
       "    .dataframe tbody tr th {\n",
       "        vertical-align: top;\n",
       "    }\n",
       "\n",
       "    .dataframe thead th {\n",
       "        text-align: right;\n",
       "    }\n",
       "</style>\n",
       "<table border=\"1\" class=\"dataframe\">\n",
       "  <thead>\n",
       "    <tr style=\"text-align: right;\">\n",
       "      <th></th>\n",
       "      <th>Percentage Of Players</th>\n",
       "      <th>Total Count</th>\n",
       "    </tr>\n",
       "  </thead>\n",
       "  <tbody>\n",
       "    <tr>\n",
       "      <th>Male</th>\n",
       "      <td>84.03</td>\n",
       "      <td>484</td>\n",
       "    </tr>\n",
       "    <tr>\n",
       "      <th>Female</th>\n",
       "      <td>14.06</td>\n",
       "      <td>81</td>\n",
       "    </tr>\n",
       "    <tr>\n",
       "      <th>Other / Non-Disclosed</th>\n",
       "      <td>1.91</td>\n",
       "      <td>11</td>\n",
       "    </tr>\n",
       "  </tbody>\n",
       "</table>\n",
       "</div>"
      ],
      "text/plain": [
       "                       Percentage Of Players  Total Count\n",
       "Male                                   84.03          484\n",
       "Female                                 14.06           81\n",
       "Other / Non-Disclosed                   1.91           11"
      ]
     },
     "execution_count": 4,
     "metadata": {},
     "output_type": "execute_result"
    }
   ],
   "source": [
    "# Calculate the percentage and count of male players\n",
    "gender_demo_totals = player_demographics[\"Gender\"].value_counts()\n",
    "gender_demo_percents = gender_demo_totals/num_players * 100\n",
    "gender_demo = pd.DataFrame({\"Percentage Of Players\":gender_demo_percents, \"Total Count\":gender_demo_totals})\n",
    "\n",
    "# Data formatting\n",
    "gender_demo = gender_demo.round(2)\n",
    "\n",
    "#Display table\n",
    "gender_demo"
   ]
  },
  {
   "cell_type": "markdown",
   "metadata": {},
   "source": [
    "\n",
    "## Purchasing Analysis (Gender)"
   ]
  },
  {
   "cell_type": "markdown",
   "metadata": {},
   "source": [
    "* Run basic calculations to obtain purchase count, avg. purchase price, avg. purchase total per person etc. by gender\n",
    "\n",
    "\n",
    "\n",
    "\n",
    "* Create a summary data frame to hold the results\n",
    "\n",
    "\n",
    "* Optional: give the displayed data cleaner formatting\n",
    "\n",
    "\n",
    "* Display the summary data frame"
   ]
  },
  {
   "cell_type": "code",
   "execution_count": 5,
   "metadata": {},
   "outputs": [
    {
     "data": {
      "text/html": [
       "<div>\n",
       "<style scoped>\n",
       "    .dataframe tbody tr th:only-of-type {\n",
       "        vertical-align: middle;\n",
       "    }\n",
       "\n",
       "    .dataframe tbody tr th {\n",
       "        vertical-align: top;\n",
       "    }\n",
       "\n",
       "    .dataframe thead th {\n",
       "        text-align: right;\n",
       "    }\n",
       "</style>\n",
       "<table border=\"1\" class=\"dataframe\">\n",
       "  <thead>\n",
       "    <tr style=\"text-align: right;\">\n",
       "      <th></th>\n",
       "      <th>Purchase Count</th>\n",
       "      <th>Average Purchase Price</th>\n",
       "      <th>Total Purchase Value</th>\n",
       "      <th>Avg Purchase Total per Person</th>\n",
       "    </tr>\n",
       "    <tr>\n",
       "      <th>Gender</th>\n",
       "      <th></th>\n",
       "      <th></th>\n",
       "      <th></th>\n",
       "      <th></th>\n",
       "    </tr>\n",
       "  </thead>\n",
       "  <tbody>\n",
       "    <tr>\n",
       "      <th>Female</th>\n",
       "      <td>113</td>\n",
       "      <td>$3.20</td>\n",
       "      <td>$361.94</td>\n",
       "      <td>$3.20</td>\n",
       "    </tr>\n",
       "    <tr>\n",
       "      <th>Male</th>\n",
       "      <td>652</td>\n",
       "      <td>$3.02</td>\n",
       "      <td>$1,967.64</td>\n",
       "      <td>$3.02</td>\n",
       "    </tr>\n",
       "    <tr>\n",
       "      <th>Other / Non-Disclosed</th>\n",
       "      <td>15</td>\n",
       "      <td>$3.35</td>\n",
       "      <td>$50.19</td>\n",
       "      <td>$3.35</td>\n",
       "    </tr>\n",
       "  </tbody>\n",
       "</table>\n",
       "</div>"
      ],
      "text/plain": [
       "                      Purchase Count Average Purchase Price  \\\n",
       "Gender                                                        \n",
       "Female                           113                  $3.20   \n",
       "Male                             652                  $3.02   \n",
       "Other / Non-Disclosed             15                  $3.35   \n",
       "\n",
       "                      Total Purchase Value Avg Purchase Total per Person  \n",
       "Gender                                                                    \n",
       "Female                             $361.94                         $3.20  \n",
       "Male                             $1,967.64                         $3.02  \n",
       "Other / Non-Disclosed               $50.19                         $3.35  "
      ]
     },
     "execution_count": 5,
     "metadata": {},
     "output_type": "execute_result"
    }
   ],
   "source": [
    "# Run basic calculations - I think avg purchase price and purchase total per person are the same thing\n",
    "gender_purchase_total = purchase_data.groupby([\"Gender\"]).sum()[\"Price\"].rename(\"Total Purchase Value\")\n",
    "gender_average = purchase_data.groupby([\"Gender\"]).mean()[\"Price\"].rename(\"Average Purchase Price\")\n",
    "gender_counts = purchase_data.groupby([\"Gender\"]).count()[\"Price\"].rename(\"Purchase Count\")\n",
    "\n",
    "# Convert to DataFrame\n",
    "gender_data = pd.DataFrame({\"Purchase Count\": gender_counts, \"Average Purchase Price\": gender_average, \"Total Purchase Value\": gender_purchase_total, \"Avg Purchase Total per Person\": gender_average})\n",
    "\n",
    "# Minor Data Munging\n",
    "gender_data[\"Average Purchase Price\"] = gender_data[\"Average Purchase Price\"].map(\"${:,.2f}\".format)\n",
    "gender_data[\"Total Purchase Value\"] = gender_data[\"Total Purchase Value\"].map(\"${:,.2f}\".format)\n",
    "gender_data [\"Purchase Count\"] = gender_data[\"Purchase Count\"].map(\"{:,}\".format)\n",
    "gender_data[\"Avg Purchase Total per Person\"] = gender_data[\"Avg Purchase Total per Person\"].map(\"${:,.2f}\".format)\n",
    "gender_data = gender_data.loc[:, [\"Purchase Count\", \"Average Purchase Price\", \"Total Purchase Value\", \"Avg Purchase Total per Person\"]]\n",
    "\n",
    "# Display the Gender Table\n",
    "gender_data"
   ]
  },
  {
   "cell_type": "markdown",
   "metadata": {},
   "source": [
    "## Age Demographics"
   ]
  },
  {
   "cell_type": "markdown",
   "metadata": {},
   "source": [
    "* Establish bins for ages\n",
    "\n",
    "\n",
    "* Categorize the existing players using the age bins. Hint: use pd.cut()\n",
    "\n",
    "\n",
    "* Calculate the numbers and percentages by age group\n",
    "\n",
    "\n",
    "* Create a summary data frame to hold the results\n",
    "\n",
    "\n",
    "* Optional: round the percentage column to two decimal points\n",
    "\n",
    "\n",
    "* Display Age Demographics Table\n"
   ]
  },
  {
   "cell_type": "code",
   "execution_count": 6,
   "metadata": {},
   "outputs": [
    {
     "data": {
      "text/html": [
       "<div>\n",
       "<style scoped>\n",
       "    .dataframe tbody tr th:only-of-type {\n",
       "        vertical-align: middle;\n",
       "    }\n",
       "\n",
       "    .dataframe tbody tr th {\n",
       "        vertical-align: top;\n",
       "    }\n",
       "\n",
       "    .dataframe thead th {\n",
       "        text-align: right;\n",
       "    }\n",
       "</style>\n",
       "<table border=\"1\" class=\"dataframe\">\n",
       "  <thead>\n",
       "    <tr style=\"text-align: right;\">\n",
       "      <th></th>\n",
       "      <th>Total Count</th>\n",
       "      <th>Percentage of Players</th>\n",
       "    </tr>\n",
       "  </thead>\n",
       "  <tbody>\n",
       "    <tr>\n",
       "      <th>&lt;10</th>\n",
       "      <td>17</td>\n",
       "      <td>2.95</td>\n",
       "    </tr>\n",
       "    <tr>\n",
       "      <th>10-14</th>\n",
       "      <td>22</td>\n",
       "      <td>3.82</td>\n",
       "    </tr>\n",
       "    <tr>\n",
       "      <th>15-19</th>\n",
       "      <td>107</td>\n",
       "      <td>18.58</td>\n",
       "    </tr>\n",
       "    <tr>\n",
       "      <th>20-24</th>\n",
       "      <td>258</td>\n",
       "      <td>44.79</td>\n",
       "    </tr>\n",
       "    <tr>\n",
       "      <th>25-29</th>\n",
       "      <td>77</td>\n",
       "      <td>13.37</td>\n",
       "    </tr>\n",
       "    <tr>\n",
       "      <th>30-34</th>\n",
       "      <td>52</td>\n",
       "      <td>9.03</td>\n",
       "    </tr>\n",
       "    <tr>\n",
       "      <th>35-39</th>\n",
       "      <td>31</td>\n",
       "      <td>5.38</td>\n",
       "    </tr>\n",
       "    <tr>\n",
       "      <th>40+</th>\n",
       "      <td>12</td>\n",
       "      <td>2.08</td>\n",
       "    </tr>\n",
       "  </tbody>\n",
       "</table>\n",
       "</div>"
      ],
      "text/plain": [
       "       Total Count  Percentage of Players\n",
       "<10             17                   2.95\n",
       "10-14           22                   3.82\n",
       "15-19          107                  18.58\n",
       "20-24          258                  44.79\n",
       "25-29           77                  13.37\n",
       "30-34           52                   9.03\n",
       "35-39           31                   5.38\n",
       "40+             12                   2.08"
      ]
     },
     "execution_count": 6,
     "metadata": {},
     "output_type": "execute_result"
    }
   ],
   "source": [
    "# Establish bins for ages\n",
    "age_bins = [0, 9.90, 14.90, 19.90, 24.90, 29.90, 34.90, 39.90, 99999]\n",
    "group_names = [\"<10\", \"10-14\", \"15-19\", \"20-24\", \"25-29\", \"30-34\", \"35-39\", \"40+\"]\n",
    "\n",
    "# Categorize the existing players using the age bins - use pd.cut()\n",
    "player_demographics[\"Age Ranges\"] = pd.cut(player_demographics[\"Age\"], age_bins, labels=group_names)\n",
    "\n",
    "# Calculate the number and percentages by age group\n",
    "age_demo_totals = player_demographics[\"Age Ranges\"].value_counts()\n",
    "age_demo_percents = age_demo_totals / num_players * 100\n",
    "age_demo = pd.DataFrame({\"Total Count\": age_demo_totals, \"Percentage of Players\": age_demo_percents})\n",
    "\n",
    "\n",
    "# Data formatting\n",
    "age_demo = age_demo.round(2)\n",
    "\n",
    "# Display Age Demographics Table\n",
    "age_demo.sort_index()\n"
   ]
  },
  {
   "cell_type": "markdown",
   "metadata": {},
   "source": [
    "## Purchasing Analysis (Age)"
   ]
  },
  {
   "cell_type": "markdown",
   "metadata": {},
   "source": [
    "* Bin the purchase_data data frame by age\n",
    "\n",
    "\n",
    "* Run basic calculations to obtain purchase count, avg. purchase price, avg. purchase total per person etc. in the table below\n",
    "\n",
    "\n",
    "* Create a summary data frame to hold the results\n",
    "\n",
    "\n",
    "* Optional: give the displayed data cleaner formatting\n",
    "\n",
    "\n",
    "* Display the summary data frame"
   ]
  },
  {
   "cell_type": "code",
   "execution_count": 7,
   "metadata": {},
   "outputs": [
    {
     "data": {
      "text/html": [
       "<div>\n",
       "<style scoped>\n",
       "    .dataframe tbody tr th:only-of-type {\n",
       "        vertical-align: middle;\n",
       "    }\n",
       "\n",
       "    .dataframe tbody tr th {\n",
       "        vertical-align: top;\n",
       "    }\n",
       "\n",
       "    .dataframe thead th {\n",
       "        text-align: right;\n",
       "    }\n",
       "</style>\n",
       "<table border=\"1\" class=\"dataframe\">\n",
       "  <thead>\n",
       "    <tr style=\"text-align: right;\">\n",
       "      <th></th>\n",
       "      <th>Purchase Count</th>\n",
       "      <th>Average Purchase Price</th>\n",
       "      <th>Total Purchase Value</th>\n",
       "      <th>Avg Purchase Total per Person</th>\n",
       "    </tr>\n",
       "    <tr>\n",
       "      <th>Age Ranges</th>\n",
       "      <th></th>\n",
       "      <th></th>\n",
       "      <th></th>\n",
       "      <th></th>\n",
       "    </tr>\n",
       "  </thead>\n",
       "  <tbody>\n",
       "    <tr>\n",
       "      <th>&lt;10</th>\n",
       "      <td>23</td>\n",
       "      <td>$3.35</td>\n",
       "      <td>$77.13</td>\n",
       "      <td>$3.35</td>\n",
       "    </tr>\n",
       "    <tr>\n",
       "      <th>10-14</th>\n",
       "      <td>28</td>\n",
       "      <td>$2.96</td>\n",
       "      <td>$82.78</td>\n",
       "      <td>$2.96</td>\n",
       "    </tr>\n",
       "    <tr>\n",
       "      <th>15-19</th>\n",
       "      <td>136</td>\n",
       "      <td>$3.04</td>\n",
       "      <td>$412.89</td>\n",
       "      <td>$3.04</td>\n",
       "    </tr>\n",
       "    <tr>\n",
       "      <th>20-24</th>\n",
       "      <td>365</td>\n",
       "      <td>$3.05</td>\n",
       "      <td>$1,114.06</td>\n",
       "      <td>$3.05</td>\n",
       "    </tr>\n",
       "    <tr>\n",
       "      <th>25-29</th>\n",
       "      <td>101</td>\n",
       "      <td>$2.90</td>\n",
       "      <td>$293.00</td>\n",
       "      <td>$2.90</td>\n",
       "    </tr>\n",
       "    <tr>\n",
       "      <th>30-34</th>\n",
       "      <td>73</td>\n",
       "      <td>$2.93</td>\n",
       "      <td>$214.00</td>\n",
       "      <td>$2.93</td>\n",
       "    </tr>\n",
       "    <tr>\n",
       "      <th>35-39</th>\n",
       "      <td>41</td>\n",
       "      <td>$3.60</td>\n",
       "      <td>$147.67</td>\n",
       "      <td>$3.60</td>\n",
       "    </tr>\n",
       "    <tr>\n",
       "      <th>40+</th>\n",
       "      <td>13</td>\n",
       "      <td>$2.94</td>\n",
       "      <td>$38.24</td>\n",
       "      <td>$2.94</td>\n",
       "    </tr>\n",
       "  </tbody>\n",
       "</table>\n",
       "</div>"
      ],
      "text/plain": [
       "           Purchase Count Average Purchase Price Total Purchase Value  \\\n",
       "Age Ranges                                                              \n",
       "<10                    23                  $3.35               $77.13   \n",
       "10-14                  28                  $2.96               $82.78   \n",
       "15-19                 136                  $3.04              $412.89   \n",
       "20-24                 365                  $3.05            $1,114.06   \n",
       "25-29                 101                  $2.90              $293.00   \n",
       "30-34                  73                  $2.93              $214.00   \n",
       "35-39                  41                  $3.60              $147.67   \n",
       "40+                    13                  $2.94               $38.24   \n",
       "\n",
       "           Avg Purchase Total per Person  \n",
       "Age Ranges                                \n",
       "<10                                $3.35  \n",
       "10-14                              $2.96  \n",
       "15-19                              $3.04  \n",
       "20-24                              $3.05  \n",
       "25-29                              $2.90  \n",
       "30-34                              $2.93  \n",
       "35-39                              $3.60  \n",
       "40+                                $2.94  "
      ]
     },
     "execution_count": 7,
     "metadata": {},
     "output_type": "execute_result"
    }
   ],
   "source": [
    "# Bin the Purchasing data frame by age\n",
    "purchase_data[\"Age Ranges\"] = pd.cut(purchase_data[\"Age\"], age_bins, labels=group_names)\n",
    "\n",
    "# Run basic calculations - again - I think avg purchase price and purchase total per person are the same thing\n",
    "age_purchase_total = purchase_data.groupby([\"Age Ranges\"]).sum()[\"Price\"].rename(\"Total Purchase Value\")\n",
    "age_average = purchase_data.groupby([\"Age Ranges\"]).mean()[\"Price\"].rename(\"Average Purchase Price\")\n",
    "age_counts = purchase_data.groupby([\"Age Ranges\"]).count()[\"Price\"].rename(\"Purchase Count\")\n",
    "\n",
    "# Convert to DataFrame\n",
    "age_data = pd.DataFrame({\"Purchase Count\": age_counts, \"Average Purchase Price\": age_average, \"Total Purchase Value\": age_purchase_total, \"Avg Purchase Total per Person\": age_average})\n",
    "\n",
    "# Data Formatting\n",
    "age_data[\"Average Purchase Price\"] = age_data[\"Average Purchase Price\"].map(\"${:,.2f}\".format)\n",
    "age_data[\"Total Purchase Value\"] = age_data[\"Total Purchase Value\"].map(\"${:,.2f}\".format)\n",
    "age_data [\"Purchase Count\"] = age_data[\"Purchase Count\"].map(\"{:,}\".format)\n",
    "age_data[\"Avg Purchase Total per Person\"] = age_data[\"Avg Purchase Total per Person\"].map(\"${:,.2f}\".format)\n",
    "age_data = age_data.loc[:, [\"Purchase Count\", \"Average Purchase Price\", \"Total Purchase Value\", \"Avg Purchase Total per Person\"]]\n",
    "\n",
    "# Display the Age Table\n",
    "age_data\n"
   ]
  },
  {
   "cell_type": "markdown",
   "metadata": {},
   "source": [
    "## Top Spenders"
   ]
  },
  {
   "cell_type": "markdown",
   "metadata": {},
   "source": [
    "* Run basic calculations to obtain the results in the table below\n",
    "\n",
    "\n",
    "* Create a summary data frame to hold the results\n",
    "\n",
    "\n",
    "* Sort the total purchase value column in descending order\n",
    "\n",
    "\n",
    "* Optional: give the displayed data cleaner formatting\n",
    "\n",
    "\n",
    "* Display a preview of the summary data frame\n",
    "\n"
   ]
  },
  {
   "cell_type": "code",
   "execution_count": 8,
   "metadata": {},
   "outputs": [
    {
     "data": {
      "text/html": [
       "<div>\n",
       "<style scoped>\n",
       "    .dataframe tbody tr th:only-of-type {\n",
       "        vertical-align: middle;\n",
       "    }\n",
       "\n",
       "    .dataframe tbody tr th {\n",
       "        vertical-align: top;\n",
       "    }\n",
       "\n",
       "    .dataframe thead th {\n",
       "        text-align: right;\n",
       "    }\n",
       "</style>\n",
       "<table border=\"1\" class=\"dataframe\">\n",
       "  <thead>\n",
       "    <tr style=\"text-align: right;\">\n",
       "      <th></th>\n",
       "      <th>Purchase Count</th>\n",
       "      <th>Average Purchase Price</th>\n",
       "      <th>Total Purchase Value</th>\n",
       "    </tr>\n",
       "    <tr>\n",
       "      <th>SN</th>\n",
       "      <th></th>\n",
       "      <th></th>\n",
       "      <th></th>\n",
       "    </tr>\n",
       "  </thead>\n",
       "  <tbody>\n",
       "    <tr>\n",
       "      <th>Lisosia93</th>\n",
       "      <td>5</td>\n",
       "      <td>$3.79</td>\n",
       "      <td>$18.96</td>\n",
       "    </tr>\n",
       "    <tr>\n",
       "      <th>Idastidru52</th>\n",
       "      <td>4</td>\n",
       "      <td>$3.86</td>\n",
       "      <td>$15.45</td>\n",
       "    </tr>\n",
       "    <tr>\n",
       "      <th>Chamjask73</th>\n",
       "      <td>3</td>\n",
       "      <td>$4.61</td>\n",
       "      <td>$13.83</td>\n",
       "    </tr>\n",
       "    <tr>\n",
       "      <th>Iral74</th>\n",
       "      <td>4</td>\n",
       "      <td>$3.40</td>\n",
       "      <td>$13.62</td>\n",
       "    </tr>\n",
       "    <tr>\n",
       "      <th>Iskadarya95</th>\n",
       "      <td>3</td>\n",
       "      <td>$4.37</td>\n",
       "      <td>$13.10</td>\n",
       "    </tr>\n",
       "  </tbody>\n",
       "</table>\n",
       "</div>"
      ],
      "text/plain": [
       "            Purchase Count Average Purchase Price Total Purchase Value\n",
       "SN                                                                    \n",
       "Lisosia93                5                  $3.79               $18.96\n",
       "Idastidru52              4                  $3.86               $15.45\n",
       "Chamjask73               3                  $4.61               $13.83\n",
       "Iral74                   4                  $3.40               $13.62\n",
       "Iskadarya95              3                  $4.37               $13.10"
      ]
     },
     "execution_count": 8,
     "metadata": {},
     "output_type": "execute_result"
    }
   ],
   "source": [
    "# Basic calculations and DataFrame\n",
    "#Group by screen name to find, total purchase per person, number of purchases per person, and average price price per person\n",
    "num_purchase_by_SN = pd.DataFrame(purchase_data.groupby('SN')['Price'].count())\n",
    "avg_purchase_by_SN = pd.DataFrame(purchase_data.groupby('SN')['Price'].mean())\n",
    "purchase_amt_by_SN = pd.DataFrame(purchase_data.groupby('SN')['Price'].sum())\n",
    "\n",
    "# merge the dataframes\n",
    "merged_top5 = pd.merge(purchase_amt_by_SN, num_purchase_by_SN, left_index = True, right_index = True).merge(avg_purchase_by_SN, left_index=True, right_index=True)\n",
    "\n",
    "# rename columns\n",
    "merged_top5.rename(columns = {'Price_y':'Purchase Count', 'Price': 'Average Purchase Price', 'Price_x': 'Total Purchase Value'}, inplace = True)\n",
    "\n",
    "# sort from highest purchase value to lowest\n",
    "merged_top5.sort_values('Total Purchase Value', ascending = False, inplace=True)\n",
    "\n",
    "# take top 5 only\n",
    "merged_top5 = merged_top5.head()\n",
    "\n",
    "# Data formatting\n",
    "merged_top5[\"Purchase Count\"] = merged_top5[\"Purchase Count\"].map(\"{:,.0f}\".format)\n",
    "merged_top5[\"Average Purchase Price\"] = merged_top5[\"Average Purchase Price\"].map(\"${:,.2f}\".format)\n",
    "merged_top5[\"Total Purchase Value\"] = merged_top5[\"Total Purchase Value\"].map(\"${:,.2f}\".format)\n",
    "merged_top5 = merged_top5.loc[:,[\"Purchase Count\", \"Average Purchase Price\", \"Total Purchase Value\"]]\n",
    "\n",
    "# Display table\n",
    "merged_top5"
   ]
  },
  {
   "cell_type": "markdown",
   "metadata": {},
   "source": [
    "## Most Popular Items"
   ]
  },
  {
   "cell_type": "markdown",
   "metadata": {},
   "source": [
    "* Retrieve the Item ID, Item Name, and Item Price columns\n",
    "\n",
    "\n",
    "* Group by Item ID and Item Name. Perform calculations to obtain purchase count, item price, and total purchase value\n",
    "\n",
    "\n",
    "* Create a summary data frame to hold the results\n",
    "\n",
    "\n",
    "* Sort the purchase count column in descending order\n",
    "\n",
    "\n",
    "* Optional: give the displayed data cleaner formatting\n",
    "\n",
    "\n",
    "* Display a preview of the summary data frame\n",
    "\n"
   ]
  },
  {
   "cell_type": "code",
   "execution_count": 9,
   "metadata": {},
   "outputs": [
    {
     "name": "stderr",
     "output_type": "stream",
     "text": [
      "C:\\Users\\parsellj\\AppData\\Local\\Continuum\\anaconda3\\lib\\site-packages\\ipykernel_launcher.py:5: FutureWarning: 'Item ID' is both an index level and a column label.\n",
      "Defaulting to column, but this will raise an ambiguity error in a future version\n",
      "  \"\"\"\n"
     ]
    },
    {
     "data": {
      "text/html": [
       "<style  type=\"text/css\" >\n",
       "</style>  \n",
       "<table id=\"T_0c99f39c_8e2f_11e8_8171_a434d99e53a3\" > \n",
       "<thead>    <tr> \n",
       "        <th class=\"blank level0\" ></th> \n",
       "        <th class=\"col_heading level0 col0\" >Item Name</th> \n",
       "        <th class=\"col_heading level0 col1\" >Purchase Count</th> \n",
       "        <th class=\"col_heading level0 col2\" >Item Price</th> \n",
       "        <th class=\"col_heading level0 col3\" >Total Purchase Value</th> \n",
       "    </tr>    <tr> \n",
       "        <th class=\"index_name level0\" >Item ID</th> \n",
       "        <th class=\"blank\" ></th> \n",
       "        <th class=\"blank\" ></th> \n",
       "        <th class=\"blank\" ></th> \n",
       "        <th class=\"blank\" ></th> \n",
       "    </tr></thead> \n",
       "<tbody>    <tr> \n",
       "        <th id=\"T_0c99f39c_8e2f_11e8_8171_a434d99e53a3level0_row0\" class=\"row_heading level0 row0\" >178</th> \n",
       "        <td id=\"T_0c99f39c_8e2f_11e8_8171_a434d99e53a3row0_col0\" class=\"data row0 col0\" >Oathbreaker, Last Hope of the Breaking Storm</td> \n",
       "        <td id=\"T_0c99f39c_8e2f_11e8_8171_a434d99e53a3row0_col1\" class=\"data row0 col1\" >12</td> \n",
       "        <td id=\"T_0c99f39c_8e2f_11e8_8171_a434d99e53a3row0_col2\" class=\"data row0 col2\" >$4.23</td> \n",
       "        <td id=\"T_0c99f39c_8e2f_11e8_8171_a434d99e53a3row0_col3\" class=\"data row0 col3\" >$50.76</td> \n",
       "    </tr>    <tr> \n",
       "        <th id=\"T_0c99f39c_8e2f_11e8_8171_a434d99e53a3level0_row1\" class=\"row_heading level0 row1\" >145</th> \n",
       "        <td id=\"T_0c99f39c_8e2f_11e8_8171_a434d99e53a3row1_col0\" class=\"data row1 col0\" >Fiery Glass Crusader</td> \n",
       "        <td id=\"T_0c99f39c_8e2f_11e8_8171_a434d99e53a3row1_col1\" class=\"data row1 col1\" >9</td> \n",
       "        <td id=\"T_0c99f39c_8e2f_11e8_8171_a434d99e53a3row1_col2\" class=\"data row1 col2\" >$4.58</td> \n",
       "        <td id=\"T_0c99f39c_8e2f_11e8_8171_a434d99e53a3row1_col3\" class=\"data row1 col3\" >$41.22</td> \n",
       "    </tr>    <tr> \n",
       "        <th id=\"T_0c99f39c_8e2f_11e8_8171_a434d99e53a3level0_row2\" class=\"row_heading level0 row2\" >108</th> \n",
       "        <td id=\"T_0c99f39c_8e2f_11e8_8171_a434d99e53a3row2_col0\" class=\"data row2 col0\" >Extraction, Quickblade Of Trembling Hands</td> \n",
       "        <td id=\"T_0c99f39c_8e2f_11e8_8171_a434d99e53a3row2_col1\" class=\"data row2 col1\" >9</td> \n",
       "        <td id=\"T_0c99f39c_8e2f_11e8_8171_a434d99e53a3row2_col2\" class=\"data row2 col2\" >$3.53</td> \n",
       "        <td id=\"T_0c99f39c_8e2f_11e8_8171_a434d99e53a3row2_col3\" class=\"data row2 col3\" >$31.77</td> \n",
       "    </tr>    <tr> \n",
       "        <th id=\"T_0c99f39c_8e2f_11e8_8171_a434d99e53a3level0_row3\" class=\"row_heading level0 row3\" >82</th> \n",
       "        <td id=\"T_0c99f39c_8e2f_11e8_8171_a434d99e53a3row3_col0\" class=\"data row3 col0\" >Nirvana</td> \n",
       "        <td id=\"T_0c99f39c_8e2f_11e8_8171_a434d99e53a3row3_col1\" class=\"data row3 col1\" >9</td> \n",
       "        <td id=\"T_0c99f39c_8e2f_11e8_8171_a434d99e53a3row3_col2\" class=\"data row3 col2\" >$4.90</td> \n",
       "        <td id=\"T_0c99f39c_8e2f_11e8_8171_a434d99e53a3row3_col3\" class=\"data row3 col3\" >$44.10</td> \n",
       "    </tr>    <tr> \n",
       "        <th id=\"T_0c99f39c_8e2f_11e8_8171_a434d99e53a3level0_row4\" class=\"row_heading level0 row4\" >19</th> \n",
       "        <td id=\"T_0c99f39c_8e2f_11e8_8171_a434d99e53a3row4_col0\" class=\"data row4 col0\" >Pursuit, Cudgel of Necromancy</td> \n",
       "        <td id=\"T_0c99f39c_8e2f_11e8_8171_a434d99e53a3row4_col1\" class=\"data row4 col1\" >8</td> \n",
       "        <td id=\"T_0c99f39c_8e2f_11e8_8171_a434d99e53a3row4_col2\" class=\"data row4 col2\" >$1.02</td> \n",
       "        <td id=\"T_0c99f39c_8e2f_11e8_8171_a434d99e53a3row4_col3\" class=\"data row4 col3\" >$8.16</td> \n",
       "    </tr></tbody> \n",
       "</table> "
      ],
      "text/plain": [
       "<pandas.io.formats.style.Styler at 0x4d1ea90>"
      ]
     },
     "execution_count": 9,
     "metadata": {},
     "output_type": "execute_result"
    }
   ],
   "source": [
    "# gets a count of each item by grouping by Item ID and counting the number of each IDs occurances\n",
    "top5_items_ID = pd.DataFrame(purchase_data.groupby('Item ID')['Item ID'].count())\n",
    "\n",
    "#sort from high to low total purchase count\n",
    "top5_items_ID.sort_values('Item ID', ascending = False, inplace = True)\n",
    "\n",
    "#keep the first 5 rows because\n",
    "top5_items_ID = top5_items_ID.iloc[0:5][:]\n",
    "\n",
    "#find the total purchase value of each item\n",
    "top5_items_total = pd.DataFrame(purchase_data.groupby('Item ID')['Price'].sum())\n",
    "\n",
    "#merge purchase count and total purcahse value \n",
    "top5_items = pd.merge(top5_items_ID, top5_items_total, left_index = True, right_index = True)\n",
    "\n",
    "#drop duplicate items from original Df\n",
    "no_dup_items = purchase_data.drop_duplicates(['Item ID'], keep = 'last')\n",
    "\n",
    "# merge to get all other info from the top 6 using the no dup df\n",
    "top5_merge_ID = pd.merge(top5_items, no_dup_items, left_index = True, right_on = 'Item ID')\n",
    "\n",
    "#keep only need columns\n",
    "top5_merge_ID = top5_merge_ID[['Item ID', 'Item Name', 'Item ID_x', 'Price_y', 'Price_x']]\n",
    "\n",
    "#reset index as item ID for aesthetics\n",
    "top5_merge_ID.set_index(['Item ID'], inplace = True)\n",
    "\n",
    "# rename columns\n",
    "top5_merge_ID.rename(columns =  {'Item ID_x': 'Purchase Count', 'Price_y': 'Item Price', 'Price_x': 'Total Purchase Value'}, inplace=True)\n",
    "\n",
    "#format\n",
    "top5_merge_ID.style.format({'Item Price': '${:.2f}', 'Total Purchase Value': '${:.2f}'})"
   ]
  },
  {
   "cell_type": "markdown",
   "metadata": {},
   "source": [
    "## Most Profitable Items"
   ]
  },
  {
   "cell_type": "markdown",
   "metadata": {},
   "source": [
    "* Sort the above table by total purchase value in descending order\n",
    "\n",
    "\n",
    "* Optional: give the displayed data cleaner formatting\n",
    "\n",
    "\n",
    "* Display a preview of the data frame\n",
    "\n"
   ]
  },
  {
   "cell_type": "code",
   "execution_count": 10,
   "metadata": {
    "scrolled": true
   },
   "outputs": [
    {
     "data": {
      "text/html": [
       "<style  type=\"text/css\" >\n",
       "</style>  \n",
       "<table id=\"T_0ca1bbca_8e2f_11e8_918a_a434d99e53a3\" > \n",
       "<thead>    <tr> \n",
       "        <th class=\"blank level0\" ></th> \n",
       "        <th class=\"col_heading level0 col0\" >Item Name</th> \n",
       "        <th class=\"col_heading level0 col1\" >Purchase Count</th> \n",
       "        <th class=\"col_heading level0 col2\" >Item Price</th> \n",
       "        <th class=\"col_heading level0 col3\" >Total Purchase Value</th> \n",
       "    </tr>    <tr> \n",
       "        <th class=\"index_name level0\" >Item ID</th> \n",
       "        <th class=\"blank\" ></th> \n",
       "        <th class=\"blank\" ></th> \n",
       "        <th class=\"blank\" ></th> \n",
       "        <th class=\"blank\" ></th> \n",
       "    </tr></thead> \n",
       "<tbody>    <tr> \n",
       "        <th id=\"T_0ca1bbca_8e2f_11e8_918a_a434d99e53a3level0_row0\" class=\"row_heading level0 row0\" >178</th> \n",
       "        <td id=\"T_0ca1bbca_8e2f_11e8_918a_a434d99e53a3row0_col0\" class=\"data row0 col0\" >Oathbreaker, Last Hope of the Breaking Storm</td> \n",
       "        <td id=\"T_0ca1bbca_8e2f_11e8_918a_a434d99e53a3row0_col1\" class=\"data row0 col1\" >12</td> \n",
       "        <td id=\"T_0ca1bbca_8e2f_11e8_918a_a434d99e53a3row0_col2\" class=\"data row0 col2\" >$4.23</td> \n",
       "        <td id=\"T_0ca1bbca_8e2f_11e8_918a_a434d99e53a3row0_col3\" class=\"data row0 col3\" >$50.76</td> \n",
       "    </tr>    <tr> \n",
       "        <th id=\"T_0ca1bbca_8e2f_11e8_918a_a434d99e53a3level0_row1\" class=\"row_heading level0 row1\" >82</th> \n",
       "        <td id=\"T_0ca1bbca_8e2f_11e8_918a_a434d99e53a3row1_col0\" class=\"data row1 col0\" >Nirvana</td> \n",
       "        <td id=\"T_0ca1bbca_8e2f_11e8_918a_a434d99e53a3row1_col1\" class=\"data row1 col1\" >9</td> \n",
       "        <td id=\"T_0ca1bbca_8e2f_11e8_918a_a434d99e53a3row1_col2\" class=\"data row1 col2\" >$4.90</td> \n",
       "        <td id=\"T_0ca1bbca_8e2f_11e8_918a_a434d99e53a3row1_col3\" class=\"data row1 col3\" >$44.10</td> \n",
       "    </tr>    <tr> \n",
       "        <th id=\"T_0ca1bbca_8e2f_11e8_918a_a434d99e53a3level0_row2\" class=\"row_heading level0 row2\" >145</th> \n",
       "        <td id=\"T_0ca1bbca_8e2f_11e8_918a_a434d99e53a3row2_col0\" class=\"data row2 col0\" >Fiery Glass Crusader</td> \n",
       "        <td id=\"T_0ca1bbca_8e2f_11e8_918a_a434d99e53a3row2_col1\" class=\"data row2 col1\" >9</td> \n",
       "        <td id=\"T_0ca1bbca_8e2f_11e8_918a_a434d99e53a3row2_col2\" class=\"data row2 col2\" >$4.58</td> \n",
       "        <td id=\"T_0ca1bbca_8e2f_11e8_918a_a434d99e53a3row2_col3\" class=\"data row2 col3\" >$41.22</td> \n",
       "    </tr>    <tr> \n",
       "        <th id=\"T_0ca1bbca_8e2f_11e8_918a_a434d99e53a3level0_row3\" class=\"row_heading level0 row3\" >92</th> \n",
       "        <td id=\"T_0ca1bbca_8e2f_11e8_918a_a434d99e53a3row3_col0\" class=\"data row3 col0\" >Final Critic</td> \n",
       "        <td id=\"T_0ca1bbca_8e2f_11e8_918a_a434d99e53a3row3_col1\" class=\"data row3 col1\" >8</td> \n",
       "        <td id=\"T_0ca1bbca_8e2f_11e8_918a_a434d99e53a3row3_col2\" class=\"data row3 col2\" >$4.88</td> \n",
       "        <td id=\"T_0ca1bbca_8e2f_11e8_918a_a434d99e53a3row3_col3\" class=\"data row3 col3\" >$39.04</td> \n",
       "    </tr>    <tr> \n",
       "        <th id=\"T_0ca1bbca_8e2f_11e8_918a_a434d99e53a3level0_row4\" class=\"row_heading level0 row4\" >103</th> \n",
       "        <td id=\"T_0ca1bbca_8e2f_11e8_918a_a434d99e53a3row4_col0\" class=\"data row4 col0\" >Singed Scalpel</td> \n",
       "        <td id=\"T_0ca1bbca_8e2f_11e8_918a_a434d99e53a3row4_col1\" class=\"data row4 col1\" >8</td> \n",
       "        <td id=\"T_0ca1bbca_8e2f_11e8_918a_a434d99e53a3row4_col2\" class=\"data row4 col2\" >$4.35</td> \n",
       "        <td id=\"T_0ca1bbca_8e2f_11e8_918a_a434d99e53a3row4_col3\" class=\"data row4 col3\" >$34.80</td> \n",
       "    </tr></tbody> \n",
       "</table> "
      ],
      "text/plain": [
       "<pandas.io.formats.style.Styler at 0x8409f28>"
      ]
     },
     "execution_count": 10,
     "metadata": {},
     "output_type": "execute_result"
    }
   ],
   "source": [
    "# find total purchase value and sort by high to low\n",
    "top5_profit = pd.DataFrame(purchase_data.groupby('Item ID')['Price'].sum())\n",
    "top5_profit.sort_values('Price', ascending = False, inplace = True)\n",
    "\n",
    "# only keep top 5\n",
    "top5_profit = top5_profit.iloc[0:5][:]\n",
    "\n",
    "#get item purchase count\n",
    "pur_count_profit = pd.DataFrame(purchase_data.groupby('Item ID')['Item ID'].count())\n",
    "\n",
    "top5_profit = pd.merge(top5_profit, pur_count_profit, left_index = True, right_index = True, how = 'left')\n",
    "top5_merge_profit = pd.merge(top5_profit, no_dup_items, left_index = True, right_on = 'Item ID', how = 'left')\n",
    "top5_merge_profit = top5_merge_profit[['Item ID', 'Item Name', 'Item ID_x', 'Price_y','Price_x']]\n",
    "top5_merge_profit.set_index(['Item ID'], inplace=True)\n",
    "top5_merge_profit.rename(columns = {'Item ID_x': 'Purchase Count', 'Price_y': 'Item Price', 'Price_x': 'Total Purchase Value'}, inplace = True)\n",
    "top5_merge_profit.style.format({'Item Price': '${:.2f}', 'Total Purchase Value': '${:.2f}'})"
   ]
  },
  {
   "cell_type": "code",
   "execution_count": null,
   "metadata": {},
   "outputs": [],
   "source": []
  }
 ],
 "metadata": {
  "anaconda-cloud": {},
  "kernel_info": {
   "name": "python3"
  },
  "kernelspec": {
   "display_name": "Python 3",
   "language": "python",
   "name": "python3"
  },
  "language_info": {
   "codemirror_mode": {
    "name": "ipython",
    "version": 3
   },
   "file_extension": ".py",
   "mimetype": "text/x-python",
   "name": "python",
   "nbconvert_exporter": "python",
   "pygments_lexer": "ipython3",
   "version": "3.6.5"
  },
  "nteract": {
   "version": "0.8.4"
  }
 },
 "nbformat": 4,
 "nbformat_minor": 1
}
